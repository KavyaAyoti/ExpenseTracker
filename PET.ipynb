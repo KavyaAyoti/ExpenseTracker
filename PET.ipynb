{
 "cells": [
  {
   "cell_type": "code",
   "execution_count": 42,
   "id": "391a2de3-b19c-4f68-9f3f-ad756a5cee91",
   "metadata": {},
   "outputs": [],
   "source": [
    "import csv,os"
   ]
  },
  {
   "cell_type": "code",
   "execution_count": 23,
   "id": "69fae6b5-f391-4f9b-999c-8400d0bf9f12",
   "metadata": {},
   "outputs": [],
   "source": [
    "from datetime import datetime\n",
    "expenses=[]\n",
    "global budget=0.0"
   ]
  },
  {
   "cell_type": "code",
   "execution_count": 51,
   "id": "cd9c269e-d0e5-477b-bc28-6ef60e7b142c",
   "metadata": {},
   "outputs": [
    {
     "name": "stdin",
     "output_type": "stream",
     "text": [
      "Enter the date of the expense in the format YYYY-MM-DD 2025-08-03\n",
      "Enter the category of the expense Cake\n",
      "Enter the amount spent 450\n",
      "Enter a brief description about the expense Birthday Celebration\n"
     ]
    }
   ],
   "source": [
    "def add_expense():\n",
    "    try:\n",
    "        date_exp=input(\"Enter the date of the expense in the format YYYY-MM-DD\").strip()\n",
    "        datetime.strptime(date_exp, \"%Y-%m-%d\")\n",
    "    except ValueError:\n",
    "        print(\"Invalid Date Format. Please enter the date in YYYY-MM-DD format\")\n",
    "        return\n",
    "    category=input(\"Enter the category of the expense\").strip()\n",
    "    if category =='':\n",
    "        print(\"Category is required\")\n",
    "    try:\n",
    "        amount = float(input(\"Enter the amount spent\"))\n",
    "    except ValueError:\n",
    "        print(\"Invalid Amount\")\n",
    "    description=input(\"Enter a brief description about the expense\").strip()\n",
    "    if description=='':\n",
    "        print(\"Invalid Description\")\n",
    "    expenses.append({\"date\":date_exp, \"category\":category, \"amount\":amount, \n",
    "                     \"description\":description})\n",
    "add_expense()"
   ]
  },
  {
   "cell_type": "code",
   "execution_count": 26,
   "id": "2caddf3c-6699-4732-9428-d71bdba868b3",
   "metadata": {},
   "outputs": [
    {
     "name": "stdout",
     "output_type": "stream",
     "text": [
      "[{'date': '2025-08-30', 'category': 'Food', 'amount': 225.86, 'description': 'Lunch with friends'}, {'date': '2025-08-30', 'category': 'Food', 'amount': 129.0, 'description': 'Lunch with friends'}]\n"
     ]
    }
   ],
   "source": [
    "print(expenses)"
   ]
  },
  {
   "cell_type": "code",
   "execution_count": 54,
   "id": "c8ea70a0-ced1-41db-87f4-68736d53071f",
   "metadata": {},
   "outputs": [
    {
     "name": "stdout",
     "output_type": "stream",
     "text": [
      "The date of the expense is:  2025-08-30\n",
      "The category of the expense is:  Food\n",
      "The amount of the expense is:  225.86\n",
      "The description of the expense is:  Lunch with friends\n",
      "---------------------------------------------------------------------------\n",
      "The date of the expense is:  2025-08-30\n",
      "The category of the expense is:  Food\n",
      "The amount of the expense is:  129.0\n",
      "The description of the expense is:  Lunch with friends\n",
      "---------------------------------------------------------------------------\n",
      "The date of the expense is:  2025-08-12\n",
      "The category of the expense is:  travel\n",
      "The amount of the expense is:  600.0\n",
      "The description of the expense is:  travel to trivandrum\n",
      "---------------------------------------------------------------------------\n"
     ]
    }
   ],
   "source": [
    "def view_expenses():\n",
    "    for i in expenses:\n",
    "        print(\"The date of the expense is: \", i[\"date\"])\n",
    "        print(\"The category of the expense is: \", i[\"category\"])\n",
    "        print(\"The amount of the expense is: \", i[\"amount\"])\n",
    "        print(\"The description of the expense is: \", i[\"description\"])\n",
    "        print(\"---------------------------------------------------------------------------\")\n",
    "    return\n",
    "view_expense()"
   ]
  },
  {
   "cell_type": "code",
   "execution_count": null,
   "id": "c666ff9c-32f8-4965-9442-680275fe788f",
   "metadata": {},
   "outputs": [],
   "source": [
    "def set_budget():\n",
    "    try:\n",
    "        budget=float(input(\"Enter your monthly budget: \").strip())\n",
    "        if budget<0:\n",
    "            print(\"Invalid Budget Amount. Please Enter a non negative amount\")\n",
    "    except ValueError:\n",
    "        print(\"Invalid Budget\")\n",
    "        return\n",
    "def track_budget():\n",
    "    sum_exp=0.0\n",
    "    for i in expenses:\n",
    "        sum_exp+=i[\"amount\"]\n",
    "        if sum_exp<budget:\n",
    "            print(\"You have ${budget-sum_exp} remaining for the month\")\n",
    "        else:\n",
    "            print(\"You have exceedeed your budget\")\n",
    "\n",
    "        "
   ]
  },
  {
   "cell_type": "code",
   "execution_count": 37,
   "id": "6cfe95c0-77ee-4954-940d-9a0de5c9b5cd",
   "metadata": {},
   "outputs": [],
   "source": [
    "def save_expenses():\n",
    "    global filename\n",
    "    data= expenses\n",
    "    filename=\"expenses.csv\"\n",
    "    field_names = data[0].keys()\n",
    "    with open(filename, \"w\", newline=\"\") as csvfile:\n",
    "        writer = csv.DictWriter(csvfile, fieldnames=field_names)\n",
    "        writer.writeheader()      # Write column names\n",
    "        writer.writerows(data)  \n",
    "    "
   ]
  },
  {
   "cell_type": "code",
   "execution_count": 38,
   "id": "34e5c53e-0857-4a94-a1bd-95f1b2ace6e9",
   "metadata": {},
   "outputs": [],
   "source": [
    "save_expenses()"
   ]
  },
  {
   "cell_type": "code",
   "execution_count": 48,
   "id": "0869a333-e9e8-42c7-a755-7408866e2e56",
   "metadata": {},
   "outputs": [],
   "source": [
    "def load_expenses():\n",
    "    global expenses\n",
    "    if os.path.exists(filename):\n",
    "        with open(filename, mode=\"r\", newline=\"\", encoding=\"utf-8\") as f:\n",
    "            reader = csv.DictReader(f)\n",
    "            loaded = []\n",
    "            for row in reader:\n",
    "                date = (row.get(\"date\") or \"\").strip()\n",
    "                category = (row.get(\"category\") or \"\").strip()\n",
    "                amount = float(row.get(\"amount\"))\n",
    "                description = (row.get(\"description\") or \"\").strip()\n",
    "                if date and category and description:\n",
    "                    loaded.append(\n",
    "                        {\n",
    "                            \"date\": date,\n",
    "                            \"category\": category,\n",
    "                            \"amount\": amount,\n",
    "                            \"description\": description,\n",
    "                        }\n",
    "                    )\n",
    "            expenses = loaded\n",
    "        print(\"Previous expenses loaded successfully.\")\n",
    "    else:\n",
    "        print(\"No previous data found. Starting fresh.\")"
   ]
  },
  {
   "cell_type": "code",
   "execution_count": 49,
   "id": "5c3387e8-165c-4cc0-b8f5-97c0f95c8b6a",
   "metadata": {},
   "outputs": [
    {
     "name": "stdout",
     "output_type": "stream",
     "text": [
      "Previous expenses loaded successfully.\n"
     ]
    }
   ],
   "source": [
    "load_expenses()"
   ]
  },
  {
   "cell_type": "code",
   "execution_count": 50,
   "id": "c7c78b87-621d-44f4-93d2-1957c005aac9",
   "metadata": {},
   "outputs": [
    {
     "name": "stdout",
     "output_type": "stream",
     "text": [
      "[{'date': '2025-08-30', 'category': 'Food', 'amount': 225.86, 'description': 'Lunch with friends'}, {'date': '2025-08-30', 'category': 'Food', 'amount': 129.0, 'description': 'Lunch with friends'}]\n"
     ]
    }
   ],
   "source": [
    "print(expenses)"
   ]
  },
  {
   "cell_type": "code",
   "execution_count": null,
   "id": "35c64605-844a-4f41-a693-088323c8c6c4",
   "metadata": {},
   "outputs": [
    {
     "name": "stdout",
     "output_type": "stream",
     "text": [
      "Previous expenses loaded successfully.\n",
      "\n",
      "=== Personal Expense Tracker ===\n",
      "1. Add Expense\n",
      "2. View Expenses\n",
      "3. Set/Track Budget\n",
      "4. Save Expenses\n",
      "5. Exit\n"
     ]
    },
    {
     "name": "stdin",
     "output_type": "stream",
     "text": [
      "Enter your choice (1-5):  2\n"
     ]
    },
    {
     "name": "stdout",
     "output_type": "stream",
     "text": [
      "The date of the expense is:  2025-08-30\n",
      "The category of the expense is:  Food\n",
      "The amount of the expense is:  225.86\n",
      "The description of the expense is:  Lunch with friends\n",
      "---------------------------------------------------------------------------\n",
      "The date of the expense is:  2025-08-30\n",
      "The category of the expense is:  Food\n",
      "The amount of the expense is:  129.0\n",
      "The description of the expense is:  Lunch with friends\n",
      "---------------------------------------------------------------------------\n",
      "\n",
      "=== Personal Expense Tracker ===\n",
      "1. Add Expense\n",
      "2. View Expenses\n",
      "3. Set/Track Budget\n",
      "4. Save Expenses\n",
      "5. Exit\n"
     ]
    },
    {
     "name": "stdin",
     "output_type": "stream",
     "text": [
      "Enter your choice (1-5):  1\n",
      "Enter the date of the expense in the format YYYY-MM-DD 2025-08-12\n",
      "Enter the category of the expense travel\n",
      "Enter the amount spent 420\n",
      "Enter a brief description about the expense travel to trivandrum\n"
     ]
    },
    {
     "name": "stdout",
     "output_type": "stream",
     "text": [
      "\n",
      "=== Personal Expense Tracker ===\n",
      "1. Add Expense\n",
      "2. View Expenses\n",
      "3. Set/Track Budget\n",
      "4. Save Expenses\n",
      "5. Exit\n"
     ]
    },
    {
     "name": "stdin",
     "output_type": "stream",
     "text": [
      "Enter your choice (1-5):  2\n"
     ]
    },
    {
     "name": "stdout",
     "output_type": "stream",
     "text": [
      "The date of the expense is:  2025-08-30\n",
      "The category of the expense is:  Food\n",
      "The amount of the expense is:  225.86\n",
      "The description of the expense is:  Lunch with friends\n",
      "---------------------------------------------------------------------------\n",
      "The date of the expense is:  2025-08-30\n",
      "The category of the expense is:  Food\n",
      "The amount of the expense is:  129.0\n",
      "The description of the expense is:  Lunch with friends\n",
      "---------------------------------------------------------------------------\n",
      "The date of the expense is:  2025-08-12\n",
      "The category of the expense is:  travel\n",
      "The amount of the expense is:  420.0\n",
      "The description of the expense is:  travel to trivandrum\n",
      "---------------------------------------------------------------------------\n",
      "\n",
      "=== Personal Expense Tracker ===\n",
      "1. Add Expense\n",
      "2. View Expenses\n",
      "3. Set/Track Budget\n",
      "4. Save Expenses\n",
      "5. Exit\n"
     ]
    }
   ],
   "source": [
    "def menu():\n",
    "    load_expenses()\n",
    "    while True:\n",
    "        print(\"\\n=== Personal Expense Tracker ===\")\n",
    "        print(\"1. Add Expense\")\n",
    "        print(\"2. View Expenses\")\n",
    "        print(\"3. Set/Track Budget\")\n",
    "        print(\"4. Save Expenses\")\n",
    "        print(\"5. Exit\")\n",
    "        choice = input(\"Enter your choice (1-5): \").strip()\n",
    "\n",
    "        if choice == \"1\":\n",
    "            add_expense()\n",
    "        elif choice == \"2\":\n",
    "            view_expenses()\n",
    "        elif choice == \"3\":\n",
    "            # Offer set and immediate track\n",
    "            set_or_track = input(\"Type 'set' to set budget or 'track' to view status (set/track): \").strip().lower()\n",
    "            if set_or_track == \"set\":\n",
    "                set_budget()\n",
    "            track_budget()\n",
    "        elif choice == \"4\":\n",
    "            save_expenses()\n",
    "        elif choice == \"5\":\n",
    "            save_expenses()\n",
    "            print(\"Your expenses are saved\")\n",
    "            break\n",
    "        else:\n",
    "            print(\"Invalid option. Please try again (1-5).\")\n",
    "\n",
    "\n",
    "if __name__ == \"__main__\":\n",
    "    menu()"
   ]
  },
  {
   "cell_type": "code",
   "execution_count": null,
   "id": "87bebf18-14bb-4747-a0a0-ae9bb5133d0c",
   "metadata": {},
   "outputs": [],
   "source": []
  }
 ],
 "metadata": {
  "kernelspec": {
   "display_name": "Python [conda env:anaconda3]",
   "language": "python",
   "name": "conda-env-anaconda3-py"
  },
  "language_info": {
   "codemirror_mode": {
    "name": "ipython",
    "version": 3
   },
   "file_extension": ".py",
   "mimetype": "text/x-python",
   "name": "python",
   "nbconvert_exporter": "python",
   "pygments_lexer": "ipython3",
   "version": "3.13.5"
  }
 },
 "nbformat": 4,
 "nbformat_minor": 5
}
